{
 "cells": [
  {
   "cell_type": "code",
   "execution_count": 37,
   "id": "5fe89fcf",
   "metadata": {},
   "outputs": [],
   "source": [
    "import os\n",
    "from tensorflow.keras.preprocessing.image import ImageDataGenerator\n",
    "\n",
    "# Define paths\n",
    "base_dir = r'C:\\Users\\Aditya Kumar\\ASD using Deep learning\\consolidated'  "
   ]
  },
  {
   "cell_type": "code",
   "execution_count": null,
   "id": "b0003e4d",
   "metadata": {},
   "outputs": [],
   "source": []
  },
  {
   "cell_type": "code",
   "execution_count": 38,
   "id": "2aa72f6d",
   "metadata": {},
   "outputs": [],
   "source": [
    "\n",
    "datagen = ImageDataGenerator(\n",
    "     rescale=1./255,\n",
    "    rotation_range=40,       \n",
    "    width_shift_range=0.3,    \n",
    "    height_shift_range=0.3,  \n",
    "    shear_range=0.3,         \n",
    "    zoom_range=0.3,           \n",
    "    horizontal_flip=True,     \n",
    "    fill_mode='nearest',      \n",
    "    validation_split=0.2\n",
    "    \n",
    ")"
   ]
  },
  {
   "cell_type": "code",
   "execution_count": 39,
   "id": "dc012690",
   "metadata": {},
   "outputs": [
    {
     "name": "stdout",
     "output_type": "stream",
     "text": [
      "Found 2524 images belonging to 2 classes.\n"
     ]
    }
   ],
   "source": [
    "\n",
    "train_generator = datagen.flow_from_directory(\n",
    "    base_dir,                    \n",
    "    target_size=(150, 150),       \n",
    "    batch_size=32,\n",
    "    class_mode='binary',          \n",
    "    subset='training'              \n",
    ")"
   ]
  },
  {
   "cell_type": "code",
   "execution_count": 40,
   "id": "286bbec2",
   "metadata": {},
   "outputs": [
    {
     "name": "stdout",
     "output_type": "stream",
     "text": [
      "Found 630 images belonging to 2 classes.\n"
     ]
    }
   ],
   "source": [
    "\n",
    "validation_generator = datagen.flow_from_directory(\n",
    "    base_dir,                    \n",
    "    target_size=(150, 150),\n",
    "    batch_size=32,\n",
    "    class_mode='binary',\n",
    "    subset='validation'           \n",
    ")"
   ]
  },
  {
   "cell_type": "markdown",
   "id": "36e48c8c",
   "metadata": {},
   "source": [
    "### fine tuning ###"
   ]
  },
  {
   "cell_type": "code",
   "execution_count": 35,
   "id": "e59859df",
   "metadata": {},
   "outputs": [],
   "source": [
    "from tensorflow.keras.optimizers import Adam\n",
    "\n",
    "# Adjust learning rate\n",
    "optimizer = Adam(learning_rate=0.001)\n",
    "model.compile(optimizer=optimizer, loss='categorical_crossentropy', metrics=['accuracy'])"
   ]
  },
  {
   "cell_type": "code",
   "execution_count": 42,
   "id": "37aa9120",
   "metadata": {},
   "outputs": [],
   "source": [
    "from tensorflow.keras.models import Sequential\n",
    "from tensorflow.keras.layers import Conv2D, MaxPooling2D, Flatten, Dense, Dropout\n",
    "\n",
    "model = Sequential()\n",
    "\n",
    "# Add Convolutional layers\n",
    "model.add(Conv2D(32, (3, 3), activation='relu', input_shape=(150, 150, 3)))\n",
    "model.add(MaxPooling2D(pool_size=(2, 2)))\n",
    "\n",
    "model.add(Conv2D(64, (3, 3), activation='relu'))\n",
    "model.add(MaxPooling2D(pool_size=(2, 2)))\n",
    "\n",
    "model.add(Conv2D(128, (3, 3), activation='relu'))\n",
    "model.add(MaxPooling2D(pool_size=(2, 2)))\n",
    "\n",
    "model.add(Flatten())\n",
    "\n",
    "\n",
    "model.add(Dense(512, activation='relu'))\n",
    "model.add(Dropout(0.7)) \n",
    "model.add(Dense(1, activation='sigmoid'))  \n",
    "# Compile the model\n",
    "model.compile(optimizer='adam', loss='binary_crossentropy', metrics=['accuracy'])\n"
   ]
  },
  {
   "cell_type": "code",
   "execution_count": 2,
   "id": "2eb4b7de",
   "metadata": {},
   "outputs": [
    {
     "name": "stdout",
     "output_type": "stream",
     "text": [
      "WARNING:tensorflow:From C:\\Users\\Aditya Kumar\\anaconda3\\lib\\site-packages\\keras\\src\\backend.py:1398: The name tf.executing_eagerly_outside_functions is deprecated. Please use tf.compat.v1.executing_eagerly_outside_functions instead.\n",
      "\n",
      "WARNING:tensorflow:From C:\\Users\\Aditya Kumar\\anaconda3\\lib\\site-packages\\keras\\src\\layers\\pooling\\max_pooling2d.py:161: The name tf.nn.max_pool is deprecated. Please use tf.nn.max_pool2d instead.\n",
      "\n",
      "WARNING:tensorflow:From C:\\Users\\Aditya Kumar\\anaconda3\\lib\\site-packages\\keras\\src\\optimizers\\__init__.py:309: The name tf.train.Optimizer is deprecated. Please use tf.compat.v1.train.Optimizer instead.\n",
      "\n"
     ]
    }
   ],
   "source": [
    "from tensorflow.keras.applications import VGG16\n",
    "from tensorflow.keras.layers import Dense, Flatten, Dropout\n",
    "from tensorflow.keras.models import Sequential\n",
    "\n",
    "\n",
    "base_model = VGG16(weights='imagenet', include_top=False, input_shape=(224, 224, 3))\n",
    "\n",
    "# Freeze the base model layers (to avoid overfitting)\n",
    "for layer in base_model.layers:\n",
    "    layer.trainable = False\n",
    "\n",
    "\n",
    "model = Sequential([\n",
    "    base_model,\n",
    "    Flatten(),\n",
    "    Dense(256, activation='relu'),\n",
    "    Dropout(0.5),\n",
    "    Dense(1, activation='sigmoid') \n",
    "])\n",
    "\n",
    "\n",
    "model.compile(optimizer='adam', loss='binary_crossentropy', metrics=['accuracy'])\n"
   ]
  },
  {
   "cell_type": "code",
   "execution_count": 5,
   "id": "3650e27e",
   "metadata": {},
   "outputs": [
    {
     "name": "stdout",
     "output_type": "stream",
     "text": [
      "Found 2654 images belonging to 2 classes.\n",
      "Found 80 images belonging to 2 classes.\n",
      "Found 280 images belonging to 2 classes.\n"
     ]
    }
   ],
   "source": [
    "import os\n",
    "from tensorflow.keras.preprocessing.image import ImageDataGenerator\n",
    "\n",
    "# Paths to your train, test, and validation folders\n",
    "train_dir = r'C:\\Users\\Aditya Kumar\\ASD using Deep learning\\train'\n",
    "valid_dir = r'C:\\Users\\Aditya Kumar\\ASD using Deep learning\\valid'\n",
    "test_dir = r'C:\\Users\\Aditya Kumar\\ASD using Deep learning\\test'\n",
    "\n",
    "# ImageDataGenerator for augmenting training data\n",
    "train_datagen = ImageDataGenerator(\n",
    "    rescale=1./255,              # Normalization\n",
    "    rotation_range=40,           # Augmentations\n",
    "    width_shift_range=0.2,\n",
    "    height_shift_range=0.2,\n",
    "    shear_range=0.2,\n",
    "    zoom_range=0.2,\n",
    "    horizontal_flip=True\n",
    ")\n",
    "\n",
    "# No augmentation for validation/test sets, just normalization\n",
    "valid_datagen = ImageDataGenerator(rescale=1./255)\n",
    "test_datagen = ImageDataGenerator(rescale=1./255)\n",
    "\n",
    "# Load the images from the directories\n",
    "train_generator = train_datagen.flow_from_directory(\n",
    "    train_dir,\n",
    "    target_size=(224, 224),\n",
    "    batch_size=32,\n",
    "    class_mode='binary'\n",
    ")\n",
    "\n",
    "valid_generator = valid_datagen.flow_from_directory(\n",
    "    valid_dir,\n",
    "    target_size=(224, 224),\n",
    "    batch_size=32,\n",
    "    class_mode='binary'\n",
    ")\n",
    "\n",
    "test_generator = test_datagen.flow_from_directory(\n",
    "    test_dir,\n",
    "    target_size=(224, 224),\n",
    "    batch_size=32,\n",
    "    class_mode='binary'\n",
    ")\n"
   ]
  },
  {
   "cell_type": "code",
   "execution_count": 6,
   "id": "9a8beae3",
   "metadata": {},
   "outputs": [
    {
     "name": "stdout",
     "output_type": "stream",
     "text": [
      "Model: \"sequential_1\"\n",
      "_________________________________________________________________\n",
      " Layer (type)                Output Shape              Param #   \n",
      "=================================================================\n",
      " vgg16 (Functional)          (None, 7, 7, 512)         14714688  \n",
      "                                                                 \n",
      " flatten_1 (Flatten)         (None, 25088)             0         \n",
      "                                                                 \n",
      " dense_2 (Dense)             (None, 256)               6422784   \n",
      "                                                                 \n",
      " dropout_1 (Dropout)         (None, 256)               0         \n",
      "                                                                 \n",
      " dense_3 (Dense)             (None, 1)                 257       \n",
      "                                                                 \n",
      "=================================================================\n",
      "Total params: 21137729 (80.63 MB)\n",
      "Trainable params: 6423041 (24.50 MB)\n",
      "Non-trainable params: 14714688 (56.13 MB)\n",
      "_________________________________________________________________\n"
     ]
    }
   ],
   "source": [
    "from tensorflow.keras.applications import VGG16\n",
    "from tensorflow.keras.models import Sequential\n",
    "from tensorflow.keras.layers import Dense, Flatten, Dropout\n",
    "from tensorflow.keras.optimizers import Adam\n",
    "\n",
    "# Load VGG16 pretrained model (without the top layer)\n",
    "base_model = VGG16(weights='imagenet', include_top=False, input_shape=(224, 224, 3))\n",
    "\n",
    "# Freeze the base model layers to avoid overfitting\n",
    "for layer in base_model.layers:\n",
    "    layer.trainable = False\n",
    "\n",
    "# Add custom layers on top of VGG16\n",
    "model = Sequential([\n",
    "    base_model,\n",
    "    Flatten(),\n",
    "    Dense(256, activation='relu'),\n",
    "    Dropout(0.5),\n",
    "    Dense(1, activation='sigmoid')  # Binary classification\n",
    "])\n",
    "\n",
    "# Compile the model\n",
    "model.compile(optimizer=Adam(learning_rate=1e-4), loss='binary_crossentropy', metrics=['accuracy'])\n",
    "\n",
    "# Summary of the model\n",
    "model.summary()\n"
   ]
  },
  {
   "cell_type": "code",
   "execution_count": 7,
   "id": "7445be4d",
   "metadata": {},
   "outputs": [
    {
     "name": "stdout",
     "output_type": "stream",
     "text": [
      "Epoch 1/10\n",
      "83/83 [==============================] - 472s 6s/step - loss: 0.6815 - accuracy: 0.6277 - val_loss: 0.4003 - val_accuracy: 0.9250\n",
      "Epoch 2/10\n",
      "83/83 [==============================] - 466s 6s/step - loss: 0.6010 - accuracy: 0.6839 - val_loss: 0.3362 - val_accuracy: 0.9250\n",
      "Epoch 3/10\n",
      "83/83 [==============================] - 463s 6s/step - loss: 0.5912 - accuracy: 0.6858 - val_loss: 0.3740 - val_accuracy: 0.9000\n",
      "Epoch 4/10\n",
      "83/83 [==============================] - 456s 5s/step - loss: 0.5665 - accuracy: 0.7121 - val_loss: 0.3028 - val_accuracy: 0.9125\n",
      "Epoch 5/10\n",
      "83/83 [==============================] - 454s 5s/step - loss: 0.5618 - accuracy: 0.7091 - val_loss: 0.2768 - val_accuracy: 0.9250\n",
      "Epoch 6/10\n",
      "83/83 [==============================] - 461s 6s/step - loss: 0.5544 - accuracy: 0.7129 - val_loss: 0.3337 - val_accuracy: 0.9250\n",
      "Epoch 7/10\n",
      "83/83 [==============================] - 478s 6s/step - loss: 0.5546 - accuracy: 0.7151 - val_loss: 0.2713 - val_accuracy: 0.9500\n",
      "Epoch 8/10\n",
      "83/83 [==============================] - 467s 6s/step - loss: 0.5357 - accuracy: 0.7276 - val_loss: 0.2663 - val_accuracy: 0.9375\n",
      "Epoch 9/10\n",
      "83/83 [==============================] - 460s 6s/step - loss: 0.5358 - accuracy: 0.7317 - val_loss: 0.2846 - val_accuracy: 0.9375\n",
      "Epoch 10/10\n",
      "83/83 [==============================] - 467s 6s/step - loss: 0.5353 - accuracy: 0.7464 - val_loss: 0.2776 - val_accuracy: 0.9375\n"
     ]
    }
   ],
   "source": [
    "from tensorflow.keras.callbacks import EarlyStopping\n",
    "\n",
    "# Early stopping to avoid overfitting\n",
    "early_stopping = EarlyStopping(monitor='val_loss', patience=5, restore_best_weights=True)\n",
    "\n",
    "# Train the model\n",
    "history = model.fit(\n",
    "    train_generator,\n",
    "    steps_per_epoch=len(train_generator),\n",
    "    epochs=10,\n",
    "    validation_data=valid_generator,\n",
    "    validation_steps=len(valid_generator),\n",
    "    callbacks=[early_stopping]\n",
    ")\n"
   ]
  },
  {
   "cell_type": "code",
   "execution_count": 8,
   "id": "6dfa636b",
   "metadata": {},
   "outputs": [
    {
     "name": "stdout",
     "output_type": "stream",
     "text": [
      "9/9 [==============================] - 46s 5s/step - loss: 0.3484 - accuracy: 0.8714\n",
      "Test loss: 0.34844955801963806, Test accuracy: 0.8714285492897034\n"
     ]
    }
   ],
   "source": [
    "# Evaluate on the test set\n",
    "test_loss, test_accuracy = model.evaluate(test_generator, steps=len(test_generator))\n",
    "print(f'Test loss: {test_loss}, Test accuracy: {test_accuracy}')\n"
   ]
  },
  {
   "cell_type": "code",
   "execution_count": 2,
   "id": "97a0e3fc",
   "metadata": {},
   "outputs": [],
   "source": [
    "import numpy as np"
   ]
  },
  {
   "cell_type": "code",
   "execution_count": 3,
   "id": "636dd320",
   "metadata": {},
   "outputs": [],
   "source": [
    "import pandas as pd"
   ]
  },
  {
   "cell_type": "code",
   "execution_count": 4,
   "id": "159800cb",
   "metadata": {},
   "outputs": [],
   "source": [
    "csv_file = 'ASD_Dataset.csv'\n",
    "df = pd.read_csv(csv_file)"
   ]
  },
  {
   "cell_type": "code",
   "execution_count": 5,
   "id": "2411493c",
   "metadata": {},
   "outputs": [
    {
     "data": {
      "text/html": [
       "<div>\n",
       "<style scoped>\n",
       "    .dataframe tbody tr th:only-of-type {\n",
       "        vertical-align: middle;\n",
       "    }\n",
       "\n",
       "    .dataframe tbody tr th {\n",
       "        vertical-align: top;\n",
       "    }\n",
       "\n",
       "    .dataframe thead th {\n",
       "        text-align: right;\n",
       "    }\n",
       "</style>\n",
       "<table border=\"1\" class=\"dataframe\">\n",
       "  <thead>\n",
       "    <tr style=\"text-align: right;\">\n",
       "      <th></th>\n",
       "      <th>ID</th>\n",
       "      <th>Name</th>\n",
       "      <th>Age</th>\n",
       "      <th>Gender</th>\n",
       "      <th>ASD Diagnosis</th>\n",
       "      <th>Type of ASD</th>\n",
       "      <th>Communication Skills</th>\n",
       "      <th>Social Interaction</th>\n",
       "      <th>Repetitive Behaviors</th>\n",
       "      <th>Cognitive Skills</th>\n",
       "      <th>Sensory Sensitivities</th>\n",
       "      <th>Family History of ASD</th>\n",
       "      <th>Notes</th>\n",
       "    </tr>\n",
       "  </thead>\n",
       "  <tbody>\n",
       "    <tr>\n",
       "      <th>0</th>\n",
       "      <td>1</td>\n",
       "      <td>Sam Lee</td>\n",
       "      <td>11</td>\n",
       "      <td>Male</td>\n",
       "      <td>No</td>\n",
       "      <td>-</td>\n",
       "      <td>Low</td>\n",
       "      <td>Moderate</td>\n",
       "      <td>Low</td>\n",
       "      <td>Moderate</td>\n",
       "      <td>High</td>\n",
       "      <td>No</td>\n",
       "      <td>NaN</td>\n",
       "    </tr>\n",
       "    <tr>\n",
       "      <th>1</th>\n",
       "      <td>2</td>\n",
       "      <td>Amy Wong</td>\n",
       "      <td>10</td>\n",
       "      <td>Female</td>\n",
       "      <td>Yes</td>\n",
       "      <td>Pervasive Development Disorder Not Otherwise S...</td>\n",
       "      <td>High</td>\n",
       "      <td>High</td>\n",
       "      <td>High</td>\n",
       "      <td>Low</td>\n",
       "      <td>High</td>\n",
       "      <td>No</td>\n",
       "      <td>NaN</td>\n",
       "    </tr>\n",
       "    <tr>\n",
       "      <th>2</th>\n",
       "      <td>3</td>\n",
       "      <td>Lily Chen</td>\n",
       "      <td>10</td>\n",
       "      <td>Male</td>\n",
       "      <td>No</td>\n",
       "      <td>-</td>\n",
       "      <td>Low</td>\n",
       "      <td>Moderate</td>\n",
       "      <td>Moderate</td>\n",
       "      <td>Low</td>\n",
       "      <td>High</td>\n",
       "      <td>No</td>\n",
       "      <td>NaN</td>\n",
       "    </tr>\n",
       "    <tr>\n",
       "      <th>3</th>\n",
       "      <td>4</td>\n",
       "      <td>Lily Chen</td>\n",
       "      <td>18</td>\n",
       "      <td>Male</td>\n",
       "      <td>No</td>\n",
       "      <td>-</td>\n",
       "      <td>Low</td>\n",
       "      <td>Moderate</td>\n",
       "      <td>Moderate</td>\n",
       "      <td>Moderate</td>\n",
       "      <td>High</td>\n",
       "      <td>No</td>\n",
       "      <td>NaN</td>\n",
       "    </tr>\n",
       "    <tr>\n",
       "      <th>4</th>\n",
       "      <td>5</td>\n",
       "      <td>Alex Kim</td>\n",
       "      <td>5</td>\n",
       "      <td>Female</td>\n",
       "      <td>Yes</td>\n",
       "      <td>Pervasive Development Disorder Not Otherwise S...</td>\n",
       "      <td>High</td>\n",
       "      <td>High</td>\n",
       "      <td>Low</td>\n",
       "      <td>Low</td>\n",
       "      <td>Moderate</td>\n",
       "      <td>Yes</td>\n",
       "      <td>NaN</td>\n",
       "    </tr>\n",
       "  </tbody>\n",
       "</table>\n",
       "</div>"
      ],
      "text/plain": [
       "   ID       Name  Age  Gender ASD Diagnosis  \\\n",
       "0   1    Sam Lee   11    Male            No   \n",
       "1   2   Amy Wong   10  Female           Yes   \n",
       "2   3  Lily Chen   10    Male            No   \n",
       "3   4  Lily Chen   18    Male            No   \n",
       "4   5   Alex Kim    5  Female           Yes   \n",
       "\n",
       "                                         Type of ASD Communication Skills  \\\n",
       "0                                                  -                  Low   \n",
       "1  Pervasive Development Disorder Not Otherwise S...                 High   \n",
       "2                                                  -                  Low   \n",
       "3                                                  -                  Low   \n",
       "4  Pervasive Development Disorder Not Otherwise S...                 High   \n",
       "\n",
       "  Social Interaction Repetitive Behaviors Cognitive Skills  \\\n",
       "0           Moderate                  Low         Moderate   \n",
       "1               High                 High              Low   \n",
       "2           Moderate             Moderate              Low   \n",
       "3           Moderate             Moderate         Moderate   \n",
       "4               High                  Low              Low   \n",
       "\n",
       "  Sensory Sensitivities Family History of ASD  Notes  \n",
       "0                  High                    No    NaN  \n",
       "1                  High                    No    NaN  \n",
       "2                  High                    No    NaN  \n",
       "3                  High                    No    NaN  \n",
       "4              Moderate                   Yes    NaN  "
      ]
     },
     "execution_count": 5,
     "metadata": {},
     "output_type": "execute_result"
    }
   ],
   "source": [
    "df.head()"
   ]
  },
  {
   "cell_type": "code",
   "execution_count": 6,
   "id": "f5515eb3",
   "metadata": {},
   "outputs": [
    {
     "name": "stdout",
     "output_type": "stream",
     "text": [
      "<class 'pandas.core.frame.DataFrame'>\n",
      "RangeIndex: 1000 entries, 0 to 999\n",
      "Data columns (total 13 columns):\n",
      " #   Column                 Non-Null Count  Dtype  \n",
      "---  ------                 --------------  -----  \n",
      " 0   ID                     1000 non-null   int64  \n",
      " 1   Name                   1000 non-null   object \n",
      " 2   Age                    1000 non-null   int64  \n",
      " 3   Gender                 1000 non-null   object \n",
      " 4   ASD Diagnosis          1000 non-null   object \n",
      " 5   Type of ASD            1000 non-null   object \n",
      " 6   Communication Skills   1000 non-null   object \n",
      " 7   Social Interaction     1000 non-null   object \n",
      " 8   Repetitive Behaviors   1000 non-null   object \n",
      " 9   Cognitive Skills       1000 non-null   object \n",
      " 10  Sensory Sensitivities  1000 non-null   object \n",
      " 11  Family History of ASD  1000 non-null   object \n",
      " 12  Notes                  0 non-null      float64\n",
      "dtypes: float64(1), int64(2), object(10)\n",
      "memory usage: 101.7+ KB\n"
     ]
    }
   ],
   "source": [
    "df.info()"
   ]
  },
  {
   "cell_type": "code",
   "execution_count": 7,
   "id": "6b1326be",
   "metadata": {},
   "outputs": [
    {
     "data": {
      "text/plain": [
       "ID                          0\n",
       "Name                        0\n",
       "Age                         0\n",
       "Gender                      0\n",
       "ASD Diagnosis               0\n",
       "Type of ASD                 0\n",
       "Communication Skills        0\n",
       "Social Interaction          0\n",
       "Repetitive Behaviors        0\n",
       "Cognitive Skills            0\n",
       "Sensory Sensitivities       0\n",
       "Family History of ASD       0\n",
       "Notes                    1000\n",
       "dtype: int64"
      ]
     },
     "execution_count": 7,
     "metadata": {},
     "output_type": "execute_result"
    }
   ],
   "source": [
    "df.isnull().sum()"
   ]
  },
  {
   "cell_type": "code",
   "execution_count": 8,
   "id": "49c43fca",
   "metadata": {},
   "outputs": [],
   "source": [
    "df = df.drop(columns = ['Notes'])"
   ]
  },
  {
   "cell_type": "code",
   "execution_count": 9,
   "id": "8ab0f4e0",
   "metadata": {},
   "outputs": [],
   "source": [
    "df = df.drop(columns = ['Name','ID'])"
   ]
  },
  {
   "cell_type": "code",
   "execution_count": 10,
   "id": "d008b366",
   "metadata": {},
   "outputs": [
    {
     "data": {
      "text/html": [
       "<div>\n",
       "<style scoped>\n",
       "    .dataframe tbody tr th:only-of-type {\n",
       "        vertical-align: middle;\n",
       "    }\n",
       "\n",
       "    .dataframe tbody tr th {\n",
       "        vertical-align: top;\n",
       "    }\n",
       "\n",
       "    .dataframe thead th {\n",
       "        text-align: right;\n",
       "    }\n",
       "</style>\n",
       "<table border=\"1\" class=\"dataframe\">\n",
       "  <thead>\n",
       "    <tr style=\"text-align: right;\">\n",
       "      <th></th>\n",
       "      <th>Age</th>\n",
       "      <th>Gender</th>\n",
       "      <th>ASD Diagnosis</th>\n",
       "      <th>Type of ASD</th>\n",
       "      <th>Communication Skills</th>\n",
       "      <th>Social Interaction</th>\n",
       "      <th>Repetitive Behaviors</th>\n",
       "      <th>Cognitive Skills</th>\n",
       "      <th>Sensory Sensitivities</th>\n",
       "      <th>Family History of ASD</th>\n",
       "    </tr>\n",
       "  </thead>\n",
       "  <tbody>\n",
       "    <tr>\n",
       "      <th>0</th>\n",
       "      <td>11</td>\n",
       "      <td>Male</td>\n",
       "      <td>No</td>\n",
       "      <td>-</td>\n",
       "      <td>Low</td>\n",
       "      <td>Moderate</td>\n",
       "      <td>Low</td>\n",
       "      <td>Moderate</td>\n",
       "      <td>High</td>\n",
       "      <td>No</td>\n",
       "    </tr>\n",
       "    <tr>\n",
       "      <th>1</th>\n",
       "      <td>10</td>\n",
       "      <td>Female</td>\n",
       "      <td>Yes</td>\n",
       "      <td>Pervasive Development Disorder Not Otherwise S...</td>\n",
       "      <td>High</td>\n",
       "      <td>High</td>\n",
       "      <td>High</td>\n",
       "      <td>Low</td>\n",
       "      <td>High</td>\n",
       "      <td>No</td>\n",
       "    </tr>\n",
       "    <tr>\n",
       "      <th>2</th>\n",
       "      <td>10</td>\n",
       "      <td>Male</td>\n",
       "      <td>No</td>\n",
       "      <td>-</td>\n",
       "      <td>Low</td>\n",
       "      <td>Moderate</td>\n",
       "      <td>Moderate</td>\n",
       "      <td>Low</td>\n",
       "      <td>High</td>\n",
       "      <td>No</td>\n",
       "    </tr>\n",
       "    <tr>\n",
       "      <th>3</th>\n",
       "      <td>18</td>\n",
       "      <td>Male</td>\n",
       "      <td>No</td>\n",
       "      <td>-</td>\n",
       "      <td>Low</td>\n",
       "      <td>Moderate</td>\n",
       "      <td>Moderate</td>\n",
       "      <td>Moderate</td>\n",
       "      <td>High</td>\n",
       "      <td>No</td>\n",
       "    </tr>\n",
       "    <tr>\n",
       "      <th>4</th>\n",
       "      <td>5</td>\n",
       "      <td>Female</td>\n",
       "      <td>Yes</td>\n",
       "      <td>Pervasive Development Disorder Not Otherwise S...</td>\n",
       "      <td>High</td>\n",
       "      <td>High</td>\n",
       "      <td>Low</td>\n",
       "      <td>Low</td>\n",
       "      <td>Moderate</td>\n",
       "      <td>Yes</td>\n",
       "    </tr>\n",
       "  </tbody>\n",
       "</table>\n",
       "</div>"
      ],
      "text/plain": [
       "   Age  Gender ASD Diagnosis  \\\n",
       "0   11    Male            No   \n",
       "1   10  Female           Yes   \n",
       "2   10    Male            No   \n",
       "3   18    Male            No   \n",
       "4    5  Female           Yes   \n",
       "\n",
       "                                         Type of ASD Communication Skills  \\\n",
       "0                                                  -                  Low   \n",
       "1  Pervasive Development Disorder Not Otherwise S...                 High   \n",
       "2                                                  -                  Low   \n",
       "3                                                  -                  Low   \n",
       "4  Pervasive Development Disorder Not Otherwise S...                 High   \n",
       "\n",
       "  Social Interaction Repetitive Behaviors Cognitive Skills  \\\n",
       "0           Moderate                  Low         Moderate   \n",
       "1               High                 High              Low   \n",
       "2           Moderate             Moderate              Low   \n",
       "3           Moderate             Moderate         Moderate   \n",
       "4               High                  Low              Low   \n",
       "\n",
       "  Sensory Sensitivities Family History of ASD  \n",
       "0                  High                    No  \n",
       "1                  High                    No  \n",
       "2                  High                    No  \n",
       "3                  High                    No  \n",
       "4              Moderate                   Yes  "
      ]
     },
     "execution_count": 10,
     "metadata": {},
     "output_type": "execute_result"
    }
   ],
   "source": [
    "df.head()"
   ]
  },
  {
   "cell_type": "code",
   "execution_count": 11,
   "id": "9b0343b7",
   "metadata": {},
   "outputs": [],
   "source": [
    "df['Age'] = df['Age'].fillna(df['Age'].median())\n",
    "df['Type of ASD'] = df['Type of ASD'].fillna(df['Type of ASD'].mode()[0])"
   ]
  },
  {
   "cell_type": "code",
   "execution_count": 12,
   "id": "371f74f6",
   "metadata": {},
   "outputs": [
    {
     "data": {
      "text/plain": [
       "Age                      0\n",
       "Gender                   0\n",
       "ASD Diagnosis            0\n",
       "Type of ASD              0\n",
       "Communication Skills     0\n",
       "Social Interaction       0\n",
       "Repetitive Behaviors     0\n",
       "Cognitive Skills         0\n",
       "Sensory Sensitivities    0\n",
       "Family History of ASD    0\n",
       "dtype: int64"
      ]
     },
     "execution_count": 12,
     "metadata": {},
     "output_type": "execute_result"
    }
   ],
   "source": [
    "df.isnull().sum()"
   ]
  },
  {
   "cell_type": "code",
   "execution_count": 13,
   "id": "85ec53e1",
   "metadata": {},
   "outputs": [],
   "source": [
    "from sklearn.preprocessing import LabelEncoder\n",
    "\n",
    "le = LabelEncoder()\n",
    "df['Gender'] = le.fit_transform(df['Gender'])\n",
    "df['Type of ASD'] = le.fit_transform(df['Type of ASD'])\n",
    "df['Family History of ASD'] = le.fit_transform(df['Family History of ASD'])\n"
   ]
  },
  {
   "cell_type": "code",
   "execution_count": 14,
   "id": "39461eef",
   "metadata": {},
   "outputs": [],
   "source": [
    "X = df.drop(columns=['ASD Diagnosis', 'Type of ASD'])\n",
    "y = df['Type of ASD']"
   ]
  },
  {
   "cell_type": "code",
   "execution_count": 15,
   "id": "16b2b17c",
   "metadata": {},
   "outputs": [],
   "source": [
    "from sklearn.model_selection import train_test_split\n",
    "\n",
    "X_train, X_test, y_train, y_test = train_test_split(X, y, test_size=0.2, random_state=42)"
   ]
  },
  {
   "cell_type": "code",
   "execution_count": 16,
   "id": "8ecf8dee",
   "metadata": {},
   "outputs": [
    {
     "name": "stdout",
     "output_type": "stream",
     "text": [
      "0    581\n",
      "2    107\n",
      "3     96\n",
      "5     79\n",
      "1     69\n",
      "4     68\n",
      "Name: Type of ASD, dtype: int64\n"
     ]
    },
    {
     "data": {
      "image/png": "[encoded data removed]",
      "text/plain": [
       "<Figure size 432x288 with 1 Axes>"
      ]
     },
     "metadata": {
      "needs_background": "light"
     },
     "output_type": "display_data"
    }
   ],
   "source": [
    "print(df['Type of ASD'].value_counts())\n",
    "\n",
    "import seaborn as sns\n",
    "import matplotlib.pyplot as plt\n",
    "\n",
    "sns.countplot(x='Type of ASD', data=df)\n",
    "plt.title('Class Distribution of Type of ASD')\n",
    "plt.show()"
   ]
  },
  {
   "cell_type": "code",
   "execution_count": 19,
   "id": "374203cc",
   "metadata": {},
   "outputs": [
    {
     "name": "stdout",
     "output_type": "stream",
     "text": [
      "Class distribution after undersampling:\n",
      "0    419\n",
      "2    107\n",
      "3     96\n",
      "5     79\n",
      "1     69\n",
      "4     68\n",
      "Name: Type of ASD, dtype: int64\n"
     ]
    }
   ],
   "source": [
    "from sklearn.utils import resample\n",
    "\n",
    "majority_class = df[df['Type of ASD'] == 0]\n",
    "minority_classes = df[df['Type of ASD'] != 0]\n",
    "\n",
    "\n",
    "majority_downsampled = resample(majority_class, \n",
    "                                replace=False,    \n",
    "                                n_samples=len(minority_classes),\n",
    "                                random_state=42)  \n",
    "\n",
    "df_downsampled = pd.concat([majority_downsampled, minority_classes])\n",
    "\n",
    "\n",
    "df_downsampled = df_downsampled.sample(frac=1, random_state=42).reset_index(drop=True)\n",
    "\n",
    "\n",
    "print(\"Class distribution after undersampling:\")\n",
    "print(df_downsampled['Type of ASD'].value_counts())\n",
    "\n",
    "\n",
    "X = df_downsampled.drop(columns=['Type of ASD', 'ASD Diagnosis'])\n",
    "y = df_downsampled['Type of ASD']\n",
    "\n",
    "from sklearn.model_selection import train_test_split\n",
    "X_train, X_test, y_train, y_test = train_test_split(X, y, test_size=0.2, random_state=42)\n"
   ]
  },
  {
   "cell_type": "code",
   "execution_count": 20,
   "id": "68e20103",
   "metadata": {},
   "outputs": [
    {
     "name": "stdout",
     "output_type": "stream",
     "text": [
      "0    581\n",
      "2    107\n",
      "3     96\n",
      "5     79\n",
      "1     69\n",
      "4     68\n",
      "Name: Type of ASD, dtype: int64\n"
     ]
    },
    {
     "data": {
      "image/png": "[encoded data removed]",
      "text/plain": [
       "<Figure size 432x288 with 1 Axes>"
      ]
     },
     "metadata": {
      "needs_background": "light"
     },
     "output_type": "display_data"
    }
   ],
   "source": [
    "# Check class distribution\n",
    "print(df['Type of ASD'].value_counts())\n",
    "\n",
    "# Visualize class imbalance\n",
    "import seaborn as sns\n",
    "import matplotlib.pyplot as plt\n",
    "\n",
    "sns.countplot(x='Type of ASD', data=df)\n",
    "plt.title('Class Distribution of Type of ASD')\n",
    "plt.show()"
   ]
  },
  {
   "cell_type": "code",
   "execution_count": 21,
   "id": "360edf8f",
   "metadata": {},
   "outputs": [
    {
     "name": "stdout",
     "output_type": "stream",
     "text": [
      "Class distribution after undersampling: Counter({0: 68, 1: 68, 2: 68, 3: 68, 4: 68, 5: 68})\n"
     ]
    }
   ],
   "source": [
    "from imblearn.under_sampling import RandomUnderSampler\n",
    "from collections import Counter\n",
    "\n",
    "undersample = RandomUnderSampler(sampling_strategy='auto', random_state=42)\n",
    "\n",
    "X_resampled, y_resampled = undersample.fit_resample(X, y)\n",
    "\n",
    "\n",
    "print(\"Class distribution after undersampling:\", Counter(y_resampled))\n",
    "\n",
    "\n",
    "from sklearn.model_selection import train_test_split\n",
    "X_train, X_test, y_train, y_test = train_test_split(X_resampled, y_resampled, test_size=0.2, random_state=42)\n"
   ]
  },
  {
   "cell_type": "code",
   "execution_count": 22,
   "id": "8d6bcf99",
   "metadata": {},
   "outputs": [
    {
     "name": "stdout",
     "output_type": "stream",
     "text": [
      "0    581\n",
      "2    107\n",
      "3     96\n",
      "5     79\n",
      "1     69\n",
      "4     68\n",
      "Name: Type of ASD, dtype: int64\n"
     ]
    },
    {
     "data": {
      "image/png": "[encoded data removed]",
      "text/plain": [
       "<Figure size 432x288 with 1 Axes>"
      ]
     },
     "metadata": {
      "needs_background": "light"
     },
     "output_type": "display_data"
    }
   ],
   "source": [
    "print(df['Type of ASD'].value_counts())\n",
    "\n",
    "\n",
    "import seaborn as sns\n",
    "import matplotlib.pyplot as plt\n",
    "\n",
    "sns.countplot(x='Type of ASD', data=df)\n",
    "plt.title('Class Distribution of Type of ASD')\n",
    "plt.show()"
   ]
  },
  {
   "cell_type": "code",
   "execution_count": 23,
   "id": "cb075350",
   "metadata": {},
   "outputs": [
    {
     "name": "stdout",
     "output_type": "stream",
     "text": [
      "   Age ASD Diagnosis  Type of ASD  Family History of ASD  Gender_1  \\\n",
      "0   11            No            0                      0         1   \n",
      "1   10           Yes            4                      0         0   \n",
      "2   10            No            0                      0         1   \n",
      "3   18            No            0                      0         1   \n",
      "4    5           Yes            4                      1         0   \n",
      "\n",
      "   Communication Skills_Low  Communication Skills_Moderate  \\\n",
      "0                         1                              0   \n",
      "1                         0                              0   \n",
      "2                         1                              0   \n",
      "3                         1                              0   \n",
      "4                         0                              0   \n",
      "\n",
      "   Social Interaction_Low  Social Interaction_Moderate  \\\n",
      "0                       0                            1   \n",
      "1                       0                            0   \n",
      "2                       0                            1   \n",
      "3                       0                            1   \n",
      "4                       0                            0   \n",
      "\n",
      "   Repetitive Behaviors_Low  Repetitive Behaviors_Moderate  \\\n",
      "0                         1                              0   \n",
      "1                         0                              0   \n",
      "2                         0                              1   \n",
      "3                         0                              1   \n",
      "4                         1                              0   \n",
      "\n",
      "   Cognitive Skills_Low  Cognitive Skills_Moderate  Sensory Sensitivities_Low  \\\n",
      "0                     0                          1                          0   \n",
      "1                     1                          0                          0   \n",
      "2                     1                          0                          0   \n",
      "3                     0                          1                          0   \n",
      "4                     1                          0                          0   \n",
      "\n",
      "   Sensory Sensitivities_Moderate  \n",
      "0                               0  \n",
      "1                               0  \n",
      "2                               0  \n",
      "3                               0  \n",
      "4                               1  \n"
     ]
    }
   ],
   "source": [
    "from sklearn.preprocessing import OneHotEncoder\n",
    "\n",
    "categorical_columns = ['Gender', 'Communication Skills', 'Social Interaction', 'Repetitive Behaviors', 'Cognitive Skills', 'Sensory Sensitivities']\n",
    "\n",
    "df_encoded = pd.get_dummies(df, columns=categorical_columns, drop_first=True)\n",
    "\n",
    "print(df_encoded.head())\n",
    "\n",
    "X = df_encoded.drop(columns=['Type of ASD', 'ASD Diagnosis'])  # Features\n",
    "y = df_encoded['Type of ASD']  # Target\n"
   ]
  },
  {
   "cell_type": "code",
   "execution_count": 24,
   "id": "fdda5e02",
   "metadata": {},
   "outputs": [
    {
     "name": "stdout",
     "output_type": "stream",
     "text": [
      "Class distribution after SMOTE + Tomek Links: Counter({4: 566, 2: 561, 5: 561, 1: 558, 3: 555, 0: 509})\n"
     ]
    }
   ],
   "source": [
    "from imblearn.combine import SMOTETomek\n",
    "\n",
    "smote_tomek = SMOTETomek(random_state=42)\n",
    "X_resampled, y_resampled = smote_tomek.fit_resample(X, y)\n",
    "print(\"Class distribution after SMOTE + Tomek Links:\", Counter(y_resampled))\n",
    "\n",
    "X_train, X_test, y_train, y_test = train_test_split(X_resampled, y_resampled, test_size=0.2, random_state=42)\n"
   ]
  },
  {
   "cell_type": "code",
   "execution_count": 25,
   "id": "311e09f6",
   "metadata": {},
   "outputs": [
    {
     "data": {
      "image/png": "[encoded data removed]",
      "text/plain": [
       "<Figure size 432x288 with 1 Axes>"
      ]
     },
     "metadata": {
      "needs_background": "light"
     },
     "output_type": "display_data"
    }
   ],
   "source": [
    "# Directly use countplot on y_resampled\n",
    "sns.countplot(x=y_resampled, palette='Set2')\n",
    "plt.title('Class Distribution After SMOTE + Tomek Links')\n",
    "plt.show()"
   ]
  },
  {
   "cell_type": "code",
   "execution_count": 26,
   "id": "fbd662e0",
   "metadata": {},
   "outputs": [
    {
     "data": {
      "text/html": [
       "<div>\n",
       "<style scoped>\n",
       "    .dataframe tbody tr th:only-of-type {\n",
       "        vertical-align: middle;\n",
       "    }\n",
       "\n",
       "    .dataframe tbody tr th {\n",
       "        vertical-align: top;\n",
       "    }\n",
       "\n",
       "    .dataframe thead th {\n",
       "        text-align: right;\n",
       "    }\n",
       "</style>\n",
       "<table border=\"1\" class=\"dataframe\">\n",
       "  <thead>\n",
       "    <tr style=\"text-align: right;\">\n",
       "      <th></th>\n",
       "      <th>Age</th>\n",
       "      <th>Gender</th>\n",
       "      <th>ASD Diagnosis</th>\n",
       "      <th>Type of ASD</th>\n",
       "      <th>Communication Skills</th>\n",
       "      <th>Social Interaction</th>\n",
       "      <th>Repetitive Behaviors</th>\n",
       "      <th>Cognitive Skills</th>\n",
       "      <th>Sensory Sensitivities</th>\n",
       "      <th>Family History of ASD</th>\n",
       "    </tr>\n",
       "  </thead>\n",
       "  <tbody>\n",
       "    <tr>\n",
       "      <th>0</th>\n",
       "      <td>11</td>\n",
       "      <td>1</td>\n",
       "      <td>No</td>\n",
       "      <td>0</td>\n",
       "      <td>Low</td>\n",
       "      <td>Moderate</td>\n",
       "      <td>Low</td>\n",
       "      <td>Moderate</td>\n",
       "      <td>High</td>\n",
       "      <td>0</td>\n",
       "    </tr>\n",
       "    <tr>\n",
       "      <th>1</th>\n",
       "      <td>10</td>\n",
       "      <td>0</td>\n",
       "      <td>Yes</td>\n",
       "      <td>4</td>\n",
       "      <td>High</td>\n",
       "      <td>High</td>\n",
       "      <td>High</td>\n",
       "      <td>Low</td>\n",
       "      <td>High</td>\n",
       "      <td>0</td>\n",
       "    </tr>\n",
       "    <tr>\n",
       "      <th>2</th>\n",
       "      <td>10</td>\n",
       "      <td>1</td>\n",
       "      <td>No</td>\n",
       "      <td>0</td>\n",
       "      <td>Low</td>\n",
       "      <td>Moderate</td>\n",
       "      <td>Moderate</td>\n",
       "      <td>Low</td>\n",
       "      <td>High</td>\n",
       "      <td>0</td>\n",
       "    </tr>\n",
       "    <tr>\n",
       "      <th>3</th>\n",
       "      <td>18</td>\n",
       "      <td>1</td>\n",
       "      <td>No</td>\n",
       "      <td>0</td>\n",
       "      <td>Low</td>\n",
       "      <td>Moderate</td>\n",
       "      <td>Moderate</td>\n",
       "      <td>Moderate</td>\n",
       "      <td>High</td>\n",
       "      <td>0</td>\n",
       "    </tr>\n",
       "    <tr>\n",
       "      <th>4</th>\n",
       "      <td>5</td>\n",
       "      <td>0</td>\n",
       "      <td>Yes</td>\n",
       "      <td>4</td>\n",
       "      <td>High</td>\n",
       "      <td>High</td>\n",
       "      <td>Low</td>\n",
       "      <td>Low</td>\n",
       "      <td>Moderate</td>\n",
       "      <td>1</td>\n",
       "    </tr>\n",
       "  </tbody>\n",
       "</table>\n",
       "</div>"
      ],
      "text/plain": [
       "   Age  Gender ASD Diagnosis  Type of ASD Communication Skills  \\\n",
       "0   11       1            No            0                  Low   \n",
       "1   10       0           Yes            4                 High   \n",
       "2   10       1            No            0                  Low   \n",
       "3   18       1            No            0                  Low   \n",
       "4    5       0           Yes            4                 High   \n",
       "\n",
       "  Social Interaction Repetitive Behaviors Cognitive Skills  \\\n",
       "0           Moderate                  Low         Moderate   \n",
       "1               High                 High              Low   \n",
       "2           Moderate             Moderate              Low   \n",
       "3           Moderate             Moderate         Moderate   \n",
       "4               High                  Low              Low   \n",
       "\n",
       "  Sensory Sensitivities  Family History of ASD  \n",
       "0                  High                      0  \n",
       "1                  High                      0  \n",
       "2                  High                      0  \n",
       "3                  High                      0  \n",
       "4              Moderate                      1  "
      ]
     },
     "execution_count": 26,
     "metadata": {},
     "output_type": "execute_result"
    }
   ],
   "source": [
    "df.head()"
   ]
  },
  {
   "cell_type": "code",
   "execution_count": 27,
   "id": "f916d167",
   "metadata": {},
   "outputs": [
    {
     "data": {
      "text/html": [
       "<div>\n",
       "<style scoped>\n",
       "    .dataframe tbody tr th:only-of-type {\n",
       "        vertical-align: middle;\n",
       "    }\n",
       "\n",
       "    .dataframe tbody tr th {\n",
       "        vertical-align: top;\n",
       "    }\n",
       "\n",
       "    .dataframe thead th {\n",
       "        text-align: right;\n",
       "    }\n",
       "</style>\n",
       "<table border=\"1\" class=\"dataframe\">\n",
       "  <thead>\n",
       "    <tr style=\"text-align: right;\">\n",
       "      <th></th>\n",
       "      <th>Age</th>\n",
       "      <th>Gender</th>\n",
       "      <th>ASD Diagnosis</th>\n",
       "      <th>Type of ASD</th>\n",
       "      <th>Communication Skills</th>\n",
       "      <th>Social Interaction</th>\n",
       "      <th>Repetitive Behaviors</th>\n",
       "      <th>Cognitive Skills</th>\n",
       "      <th>Sensory Sensitivities</th>\n",
       "      <th>Family History of ASD</th>\n",
       "    </tr>\n",
       "  </thead>\n",
       "  <tbody>\n",
       "    <tr>\n",
       "      <th>0</th>\n",
       "      <td>11</td>\n",
       "      <td>1</td>\n",
       "      <td>No</td>\n",
       "      <td>0</td>\n",
       "      <td>Low</td>\n",
       "      <td>Moderate</td>\n",
       "      <td>Low</td>\n",
       "      <td>Moderate</td>\n",
       "      <td>High</td>\n",
       "      <td>0</td>\n",
       "    </tr>\n",
       "    <tr>\n",
       "      <th>1</th>\n",
       "      <td>10</td>\n",
       "      <td>0</td>\n",
       "      <td>Yes</td>\n",
       "      <td>4</td>\n",
       "      <td>High</td>\n",
       "      <td>High</td>\n",
       "      <td>High</td>\n",
       "      <td>Low</td>\n",
       "      <td>High</td>\n",
       "      <td>0</td>\n",
       "    </tr>\n",
       "    <tr>\n",
       "      <th>2</th>\n",
       "      <td>10</td>\n",
       "      <td>1</td>\n",
       "      <td>No</td>\n",
       "      <td>0</td>\n",
       "      <td>Low</td>\n",
       "      <td>Moderate</td>\n",
       "      <td>Moderate</td>\n",
       "      <td>Low</td>\n",
       "      <td>High</td>\n",
       "      <td>0</td>\n",
       "    </tr>\n",
       "    <tr>\n",
       "      <th>3</th>\n",
       "      <td>18</td>\n",
       "      <td>1</td>\n",
       "      <td>No</td>\n",
       "      <td>0</td>\n",
       "      <td>Low</td>\n",
       "      <td>Moderate</td>\n",
       "      <td>Moderate</td>\n",
       "      <td>Moderate</td>\n",
       "      <td>High</td>\n",
       "      <td>0</td>\n",
       "    </tr>\n",
       "    <tr>\n",
       "      <th>4</th>\n",
       "      <td>5</td>\n",
       "      <td>0</td>\n",
       "      <td>Yes</td>\n",
       "      <td>4</td>\n",
       "      <td>High</td>\n",
       "      <td>High</td>\n",
       "      <td>Low</td>\n",
       "      <td>Low</td>\n",
       "      <td>Moderate</td>\n",
       "      <td>1</td>\n",
       "    </tr>\n",
       "  </tbody>\n",
       "</table>\n",
       "</div>"
      ],
      "text/plain": [
       "   Age  Gender ASD Diagnosis  Type of ASD Communication Skills  \\\n",
       "0   11       1            No            0                  Low   \n",
       "1   10       0           Yes            4                 High   \n",
       "2   10       1            No            0                  Low   \n",
       "3   18       1            No            0                  Low   \n",
       "4    5       0           Yes            4                 High   \n",
       "\n",
       "  Social Interaction Repetitive Behaviors Cognitive Skills  \\\n",
       "0           Moderate                  Low         Moderate   \n",
       "1               High                 High              Low   \n",
       "2           Moderate             Moderate              Low   \n",
       "3           Moderate             Moderate         Moderate   \n",
       "4               High                  Low              Low   \n",
       "\n",
       "  Sensory Sensitivities  Family History of ASD  \n",
       "0                  High                      0  \n",
       "1                  High                      0  \n",
       "2                  High                      0  \n",
       "3                  High                      0  \n",
       "4              Moderate                      1  "
      ]
     },
     "execution_count": 27,
     "metadata": {},
     "output_type": "execute_result"
    }
   ],
   "source": [
    "df.head()"
   ]
  },
  {
   "cell_type": "code",
   "execution_count": 32,
   "id": "9f5464f8",
   "metadata": {},
   "outputs": [
    {
     "name": "stdout",
     "output_type": "stream",
     "text": [
      "        Age  Family History of ASD  Gender_1  Communication Skills_Low  \\\n",
      "0 -0.046561              -0.756602  1.340003                  1.966633   \n",
      "1 -0.302145              -0.756602 -0.746267                 -0.508483   \n",
      "2  1.742527              -0.756602  1.340003                  1.966633   \n",
      "3 -1.580065               1.321699 -0.746267                 -0.508483   \n",
      "4 -1.580065              -0.756602 -0.746267                 -0.508483   \n",
      "\n",
      "   Communication Skills_Moderate  Social Interaction_Low  \\\n",
      "0                      -0.545463               -0.518818   \n",
      "1                      -0.545463               -0.518818   \n",
      "2                      -0.545463               -0.518818   \n",
      "3                      -0.545463               -0.518818   \n",
      "4                       1.833303               -0.518818   \n",
      "\n",
      "   Social Interaction_Moderate  Repetitive Behaviors_Low  \\\n",
      "0                     2.058480                  2.044497   \n",
      "1                    -0.485795                 -0.489118   \n",
      "2                     2.058480                 -0.489118   \n",
      "3                    -0.485795                  2.044497   \n",
      "4                    -0.485795                 -0.489118   \n",
      "\n",
      "   Repetitive Behaviors_Moderate  Cognitive Skills_Low  \\\n",
      "0                      -0.546862             -0.524909   \n",
      "1                      -0.546862              1.905091   \n",
      "2                       1.828615             -0.524909   \n",
      "3                      -0.546862              1.905091   \n",
      "4                      -0.546862             -0.524909   \n",
      "\n",
      "   Cognitive Skills_Moderate  Sensory Sensitivities_Low  \\\n",
      "0                   2.030724                  -0.518818   \n",
      "1                  -0.492435                  -0.518818   \n",
      "2                   2.030724                  -0.518818   \n",
      "3                  -0.492435                  -0.518818   \n",
      "4                   2.030724                  -0.518818   \n",
      "\n",
      "   Sensory Sensitivities_Moderate  \n",
      "0                       -0.522568  \n",
      "1                       -0.522568  \n",
      "2                       -0.522568  \n",
      "3                        1.913628  \n",
      "4                        1.913628  \n"
     ]
    }
   ],
   "source": [
    "from sklearn.preprocessing import StandardScaler\n",
    "\n",
    "scaler = StandardScaler()\n",
    "\n",
    "X_train_scaled = scaler.fit_transform(X_resampled)\n",
    "X_test_scaled = scaler.transform(X_test)\n",
    "\n",
    "X_train_scaled = pd.DataFrame(X_train_scaled, columns=X_train.columns)\n",
    "X_test_scaled = pd.DataFrame(X_test_scaled, columns=X_test.columns)\n",
    "\n",
    "print(X_train_scaled.head())\n",
    "\n"
   ]
  },
  {
   "cell_type": "code",
   "execution_count": 30,
   "id": "9faf845b",
   "metadata": {},
   "outputs": [
    {
     "data": {
      "text/html": [
       "<div>\n",
       "<style scoped>\n",
       "    .dataframe tbody tr th:only-of-type {\n",
       "        vertical-align: middle;\n",
       "    }\n",
       "\n",
       "    .dataframe tbody tr th {\n",
       "        vertical-align: top;\n",
       "    }\n",
       "\n",
       "    .dataframe thead th {\n",
       "        text-align: right;\n",
       "    }\n",
       "</style>\n",
       "<table border=\"1\" class=\"dataframe\">\n",
       "  <thead>\n",
       "    <tr style=\"text-align: right;\">\n",
       "      <th></th>\n",
       "      <th>Age</th>\n",
       "      <th>Gender</th>\n",
       "      <th>ASD Diagnosis</th>\n",
       "      <th>Type of ASD</th>\n",
       "      <th>Communication Skills</th>\n",
       "      <th>Social Interaction</th>\n",
       "      <th>Repetitive Behaviors</th>\n",
       "      <th>Cognitive Skills</th>\n",
       "      <th>Sensory Sensitivities</th>\n",
       "      <th>Family History of ASD</th>\n",
       "    </tr>\n",
       "  </thead>\n",
       "  <tbody>\n",
       "    <tr>\n",
       "      <th>0</th>\n",
       "      <td>11</td>\n",
       "      <td>1</td>\n",
       "      <td>No</td>\n",
       "      <td>0</td>\n",
       "      <td>Low</td>\n",
       "      <td>Moderate</td>\n",
       "      <td>Low</td>\n",
       "      <td>Moderate</td>\n",
       "      <td>High</td>\n",
       "      <td>0</td>\n",
       "    </tr>\n",
       "    <tr>\n",
       "      <th>1</th>\n",
       "      <td>10</td>\n",
       "      <td>0</td>\n",
       "      <td>Yes</td>\n",
       "      <td>4</td>\n",
       "      <td>High</td>\n",
       "      <td>High</td>\n",
       "      <td>High</td>\n",
       "      <td>Low</td>\n",
       "      <td>High</td>\n",
       "      <td>0</td>\n",
       "    </tr>\n",
       "    <tr>\n",
       "      <th>2</th>\n",
       "      <td>10</td>\n",
       "      <td>1</td>\n",
       "      <td>No</td>\n",
       "      <td>0</td>\n",
       "      <td>Low</td>\n",
       "      <td>Moderate</td>\n",
       "      <td>Moderate</td>\n",
       "      <td>Low</td>\n",
       "      <td>High</td>\n",
       "      <td>0</td>\n",
       "    </tr>\n",
       "    <tr>\n",
       "      <th>3</th>\n",
       "      <td>18</td>\n",
       "      <td>1</td>\n",
       "      <td>No</td>\n",
       "      <td>0</td>\n",
       "      <td>Low</td>\n",
       "      <td>Moderate</td>\n",
       "      <td>Moderate</td>\n",
       "      <td>Moderate</td>\n",
       "      <td>High</td>\n",
       "      <td>0</td>\n",
       "    </tr>\n",
       "    <tr>\n",
       "      <th>4</th>\n",
       "      <td>5</td>\n",
       "      <td>0</td>\n",
       "      <td>Yes</td>\n",
       "      <td>4</td>\n",
       "      <td>High</td>\n",
       "      <td>High</td>\n",
       "      <td>Low</td>\n",
       "      <td>Low</td>\n",
       "      <td>Moderate</td>\n",
       "      <td>1</td>\n",
       "    </tr>\n",
       "  </tbody>\n",
       "</table>\n",
       "</div>"
      ],
      "text/plain": [
       "   Age  Gender ASD Diagnosis  Type of ASD Communication Skills  \\\n",
       "0   11       1            No            0                  Low   \n",
       "1   10       0           Yes            4                 High   \n",
       "2   10       1            No            0                  Low   \n",
       "3   18       1            No            0                  Low   \n",
       "4    5       0           Yes            4                 High   \n",
       "\n",
       "  Social Interaction Repetitive Behaviors Cognitive Skills  \\\n",
       "0           Moderate                  Low         Moderate   \n",
       "1               High                 High              Low   \n",
       "2           Moderate             Moderate              Low   \n",
       "3           Moderate             Moderate         Moderate   \n",
       "4               High                  Low              Low   \n",
       "\n",
       "  Sensory Sensitivities  Family History of ASD  \n",
       "0                  High                      0  \n",
       "1                  High                      0  \n",
       "2                  High                      0  \n",
       "3                  High                      0  \n",
       "4              Moderate                      1  "
      ]
     },
     "execution_count": 30,
     "metadata": {},
     "output_type": "execute_result"
    }
   ],
   "source": [
    "df.head()"
   ]
  },
  {
   "cell_type": "code",
   "execution_count": 43,
   "id": "e44ee346",
   "metadata": {},
   "outputs": [
    {
     "data": {
      "text/plain": [
       "RandomForestClassifier(random_state=42)"
      ]
     },
     "execution_count": 43,
     "metadata": {},
     "output_type": "execute_result"
    }
   ],
   "source": [
    "from sklearn.ensemble import RandomForestClassifier\n",
    "\n",
    "rf_model = RandomForestClassifier(random_state=42)\n",
    "rf_model.fit(X_train_scaled,y_resampled)"
   ]
  },
  {
   "cell_type": "code",
   "execution_count": 44,
   "id": "04e38266",
   "metadata": {},
   "outputs": [
    {
     "name": "stdout",
     "output_type": "stream",
     "text": [
      "Accuracy: 0.9380664652567976\n",
      "Classification Report:\n",
      "               precision    recall  f1-score   support\n",
      "\n",
      "           0       0.99      0.96      0.98       109\n",
      "           1       0.88      0.96      0.92       106\n",
      "           2       0.94      0.94      0.94       125\n",
      "           3       0.95      0.93      0.94       108\n",
      "           4       0.96      0.91      0.94       111\n",
      "           5       0.91      0.93      0.92       103\n",
      "\n",
      "    accuracy                           0.94       662\n",
      "   macro avg       0.94      0.94      0.94       662\n",
      "weighted avg       0.94      0.94      0.94       662\n",
      "\n"
     ]
    }
   ],
   "source": [
    "from sklearn.metrics import classification_report, accuracy_score\n",
    "\n",
    "y_pred = rf_model.predict(X_test_scaled)\n",
    "print(\"Accuracy:\", accuracy_score(y_test, y_pred))\n",
    "print(\"Classification Report:\\n\", classification_report(y_test, y_pred))\n"
   ]
  },
  {
   "cell_type": "code",
   "execution_count": 45,
   "id": "72a0c2b3",
   "metadata": {},
   "outputs": [],
   "source": [
    "from sklearn.model_selection import GridSearchCV\n",
    "\n",
    "param_grid = {\n",
    "    'n_estimators': [100, 200],\n",
    "    'max_depth': [10, 20],\n",
    "    'min_samples_split': [2, 5],\n",
    "}\n",
    "grid_search = GridSearchCV(rf_model, param_grid, cv=5)\n",
    "grid_search.fit(X_train_scaled, y_resampled)\n",
    "\n",
    "best_rf_model = grid_search.best_estimator_\n"
   ]
  },
  {
   "cell_type": "code",
   "execution_count": 47,
   "id": "57d05558",
   "metadata": {},
   "outputs": [],
   "source": [
    "from sklearn.ensemble import RandomForestClassifier\n",
    "rf_classifier = RandomForestClassifier()"
   ]
  },
  {
   "cell_type": "code",
   "execution_count": 48,
   "id": "253becf8",
   "metadata": {},
   "outputs": [
    {
     "name": "stdout",
     "output_type": "stream",
     "text": [
      "Fitting 5 folds for each of 27 candidates, totalling 135 fits\n",
      "Best hyperparameters: {'max_depth': 20, 'min_samples_split': 2, 'n_estimators': 100}\n",
      "Accuracy after tuning: 0.9395770392749244\n"
     ]
    }
   ],
   "source": [
    "from sklearn.model_selection import GridSearchCV\n",
    "\n",
    "param_grid = {\n",
    "    'n_estimators': [100, 200, 300],\n",
    "    'max_depth': [10, 20, None],\n",
    "    'min_samples_split': [2, 5, 10]\n",
    "}\n",
    "\n",
    "grid_search = GridSearchCV(rf_classifier, param_grid, cv=5, scoring='accuracy', n_jobs=-1, verbose=1)\n",
    "\n",
    "grid_search.fit(X_train_scaled, y_resampled)\n",
    "\n",
    "print(\"Best hyperparameters:\", grid_search.best_params_)\n",
    "\n",
    "y_pred = grid_search.best_estimator_.predict(X_test_scaled)\n",
    "print(\"Accuracy after tuning:\", accuracy_score(y_test, y_pred))\n"
   ]
  },
  {
   "cell_type": "code",
   "execution_count": 49,
   "id": "1e993742",
   "metadata": {},
   "outputs": [
    {
     "name": "stdout",
     "output_type": "stream",
     "text": [
      "Cross-Validation Scores: [0.62990937 0.77643505 0.7734139  0.79003021 0.77039275]\n",
      "Mean Cross-Validation Score: 0.7480362537764351\n"
     ]
    }
   ],
   "source": [
    "from sklearn.model_selection import cross_val_score\n",
    "\n",
    "cv_scores = cross_val_score(rf_model, X_train_scaled, y_resampled, cv=5)\n",
    "\n",
    "print(\"Cross-Validation Scores:\", cv_scores)\n",
    "print(\"Mean Cross-Validation Score:\", cv_scores.mean())"
   ]
  },
  {
   "cell_type": "code",
   "execution_count": 51,
   "id": "40c3c2f0",
   "metadata": {},
   "outputs": [
    {
     "data": {
      "text/html": [
       "<div>\n",
       "<style scoped>\n",
       "    .dataframe tbody tr th:only-of-type {\n",
       "        vertical-align: middle;\n",
       "    }\n",
       "\n",
       "    .dataframe tbody tr th {\n",
       "        vertical-align: top;\n",
       "    }\n",
       "\n",
       "    .dataframe thead th {\n",
       "        text-align: right;\n",
       "    }\n",
       "</style>\n",
       "<table border=\"1\" class=\"dataframe\">\n",
       "  <thead>\n",
       "    <tr style=\"text-align: right;\">\n",
       "      <th></th>\n",
       "      <th>Age</th>\n",
       "      <th>Gender</th>\n",
       "      <th>ASD Diagnosis</th>\n",
       "      <th>Type of ASD</th>\n",
       "      <th>Communication Skills</th>\n",
       "      <th>Social Interaction</th>\n",
       "      <th>Repetitive Behaviors</th>\n",
       "      <th>Cognitive Skills</th>\n",
       "      <th>Sensory Sensitivities</th>\n",
       "      <th>Family History of ASD</th>\n",
       "    </tr>\n",
       "  </thead>\n",
       "  <tbody>\n",
       "    <tr>\n",
       "      <th>0</th>\n",
       "      <td>11</td>\n",
       "      <td>1</td>\n",
       "      <td>No</td>\n",
       "      <td>0</td>\n",
       "      <td>Low</td>\n",
       "      <td>Moderate</td>\n",
       "      <td>Low</td>\n",
       "      <td>Moderate</td>\n",
       "      <td>High</td>\n",
       "      <td>0</td>\n",
       "    </tr>\n",
       "    <tr>\n",
       "      <th>1</th>\n",
       "      <td>10</td>\n",
       "      <td>0</td>\n",
       "      <td>Yes</td>\n",
       "      <td>4</td>\n",
       "      <td>High</td>\n",
       "      <td>High</td>\n",
       "      <td>High</td>\n",
       "      <td>Low</td>\n",
       "      <td>High</td>\n",
       "      <td>0</td>\n",
       "    </tr>\n",
       "    <tr>\n",
       "      <th>2</th>\n",
       "      <td>10</td>\n",
       "      <td>1</td>\n",
       "      <td>No</td>\n",
       "      <td>0</td>\n",
       "      <td>Low</td>\n",
       "      <td>Moderate</td>\n",
       "      <td>Moderate</td>\n",
       "      <td>Low</td>\n",
       "      <td>High</td>\n",
       "      <td>0</td>\n",
       "    </tr>\n",
       "    <tr>\n",
       "      <th>3</th>\n",
       "      <td>18</td>\n",
       "      <td>1</td>\n",
       "      <td>No</td>\n",
       "      <td>0</td>\n",
       "      <td>Low</td>\n",
       "      <td>Moderate</td>\n",
       "      <td>Moderate</td>\n",
       "      <td>Moderate</td>\n",
       "      <td>High</td>\n",
       "      <td>0</td>\n",
       "    </tr>\n",
       "    <tr>\n",
       "      <th>4</th>\n",
       "      <td>5</td>\n",
       "      <td>0</td>\n",
       "      <td>Yes</td>\n",
       "      <td>4</td>\n",
       "      <td>High</td>\n",
       "      <td>High</td>\n",
       "      <td>Low</td>\n",
       "      <td>Low</td>\n",
       "      <td>Moderate</td>\n",
       "      <td>1</td>\n",
       "    </tr>\n",
       "  </tbody>\n",
       "</table>\n",
       "</div>"
      ],
      "text/plain": [
       "   Age  Gender ASD Diagnosis  Type of ASD Communication Skills  \\\n",
       "0   11       1            No            0                  Low   \n",
       "1   10       0           Yes            4                 High   \n",
       "2   10       1            No            0                  Low   \n",
       "3   18       1            No            0                  Low   \n",
       "4    5       0           Yes            4                 High   \n",
       "\n",
       "  Social Interaction Repetitive Behaviors Cognitive Skills  \\\n",
       "0           Moderate                  Low         Moderate   \n",
       "1               High                 High              Low   \n",
       "2           Moderate             Moderate              Low   \n",
       "3           Moderate             Moderate         Moderate   \n",
       "4               High                  Low              Low   \n",
       "\n",
       "  Sensory Sensitivities  Family History of ASD  \n",
       "0                  High                      0  \n",
       "1                  High                      0  \n",
       "2                  High                      0  \n",
       "3                  High                      0  \n",
       "4              Moderate                      1  "
      ]
     },
     "execution_count": 51,
     "metadata": {},
     "output_type": "execute_result"
    }
   ],
   "source": [
    "df.head()"
   ]
  },
  {
   "cell_type": "code",
   "execution_count": 59,
   "id": "2f36a58a",
   "metadata": {},
   "outputs": [
    {
     "name": "stdout",
     "output_type": "stream",
     "text": [
      "Predicted ASD Type: [0]\n"
     ]
    },
    {
     "name": "stderr",
     "output_type": "stream",
     "text": [
      "C:\\Users\\Aditya Kumar\\anaconda3\\lib\\site-packages\\sklearn\\base.py:450: UserWarning: X does not have valid feature names, but StandardScaler was fitted with feature names\n",
      "  warnings.warn(\n",
      "C:\\Users\\Aditya Kumar\\anaconda3\\lib\\site-packages\\sklearn\\base.py:450: UserWarning: X does not have valid feature names, but RandomForestClassifier was fitted with feature names\n",
      "  warnings.warn(\n"
     ]
    }
   ],
   "source": [
    "new_data = [[5, 1, 3, 2, 2, 2, 1,4,2,4,4,4,2]]\n",
    "new_data_scaled = scaler.transform(new_data)\n",
    "\n",
    "# Predict the type of ASD\n",
    "asd_type_pred = rf_model.predict(new_data_scaled)\n",
    "print(\"Predicted ASD Type:\", asd_type_pred)\n"
   ]
  }
 ],
 "metadata": {
  "kernelspec": {
   "display_name": "Python 3 (ipykernel)",
   "language": "python",
   "name": "python3"
  },
  "language_info": {
   "codemirror_mode": {
    "name": "ipython",
    "version": 3
   },
   "file_extension": ".py",
   "mimetype": "text/x-python",
   "name": "python",
   "nbconvert_exporter": "python",
   "pygments_lexer": "ipython3",
   "version": "3.9.12"
  }
 },
 "nbformat": 4,
 "nbformat_minor": 5
}
